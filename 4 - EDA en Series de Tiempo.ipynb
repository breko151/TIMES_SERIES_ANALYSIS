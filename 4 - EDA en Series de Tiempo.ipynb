{
 "cells": [
  {
   "cell_type": "code",
   "execution_count": 1,
   "metadata": {},
   "outputs": [],
   "source": [
    "# Execute if necessary\n",
    "# %%capture\n",
    "# !pip install numpy seaborn matplotlib pandas openml"
   ]
  },
  {
   "cell_type": "code",
   "execution_count": 2,
   "metadata": {},
   "outputs": [],
   "source": [
    "import numpy as np\n",
    "import seaborn as sns\n",
    "import matplotlib.pyplot as plt\n",
    "import pandas as pd\n",
    "from typing import Dict, Tuple, Union, List\n",
    "import openml\n",
    "import sklearn"
   ]
  },
  {
   "cell_type": "markdown",
   "metadata": {},
   "source": [
    "# Práctica 4: EDA en Series de Tiempo"
   ]
  },
  {
   "cell_type": "markdown",
   "metadata": {},
   "source": [
    "__Instrucciones__: A continuación hay una lista de funciones que debe implementar o tareas que debe desarrollar. La descripción de cada una de ellas se encuentra en la definición de cada una de las funciones. Cada función está marcada por &#x1F625;,  &#x1F643; o &#x1F921;. Las marcas indican:\n",
    "\n",
    "- &#x1F625;: Indican una entrega que debe ser hecha dentro de la misma sesión de la asignación. \n",
    "- &#x1F643;: Indican una entrega que puede ser hecha hasta la siguiente sesión.\n",
    "- &#x1F921;: Debe mostrar un avance en la misma sesión, pero la entrega puede ser hecha en la siguiente.\n",
    "\n",
    "Aquellas entregas parciales que no sean hechas el día de la asignación ya no serán válidas para las entregas totales, sin embargo, las entregas totales seguirán siendo válidas."
   ]
  },
  {
   "cell_type": "markdown",
   "metadata": {},
   "source": [
    "En esta sección se incluye un dataset real. El dataset importado se llama _Digital Currency_ y puede leer su descripción en la siguiente liga\n",
    "\n",
    "https://www.openml.org/d/43748"
   ]
  },
  {
   "cell_type": "code",
   "execution_count": 3,
   "metadata": {},
   "outputs": [],
   "source": [
    "# Descarga la metadata del dataset\n",
    "dataset_info = openml.datasets.get_dataset(43748, download_data=False)\n",
    "\n",
    "# Obtiene el nombre de la columna a predecir\n",
    "target = dataset_info.default_target_attribute\n",
    "\n",
    "(\n",
    "    features, # Dataframe con las características que se pueden utilizar para predecir\n",
    "    outputs, # Columna a predecir\n",
    "    categorical_mask, # Máscara que indica que columnas de todas las características son categoricas\n",
    "    columns # Lista con el nombre de las características\n",
    ")= dataset_info.get_data(\n",
    "    dataset_format=\"dataframe\", target=target\n",
    ")\n",
    "\n",
    "categorical_mask = np.array(categorical_mask)\n",
    "columns = np.array(columns)"
   ]
  },
  {
   "cell_type": "code",
   "execution_count": 4,
   "metadata": {},
   "outputs": [
    {
     "name": "stdout",
     "output_type": "stream",
     "text": [
      "La columna a predecir se llama 'None'\n",
      "Todas las características son ['City' 'Center' 'Date' 'Year' 'Month' 'Season' 'PM1_0' 'PM2_5' 'PM10'\n",
      " 'Temperature_F' 'Humidity_%' 'AQI' 'New_cases' 'Cumulative_cases'\n",
      " 'New_deaths' 'Cumulative_deaths']\n",
      "Las características categóricas son []\n",
      "Las características numéricas son ['City' 'Center' 'Date' 'Year' 'Month' 'Season' 'PM1_0' 'PM2_5' 'PM10'\n",
      " 'Temperature_F' 'Humidity_%' 'AQI' 'New_cases' 'Cumulative_cases'\n",
      " 'New_deaths' 'Cumulative_deaths']\n"
     ]
    }
   ],
   "source": [
    "print(f\"La columna a predecir se llama '{target}'\")\n",
    "print(f\"Todas las características son {str(columns)}\")\n",
    "print(f\"Las características categóricas son {str(columns[categorical_mask])}\")\n",
    "print(f\"Las características numéricas son {str(columns[~categorical_mask])}\")"
   ]
  },
  {
   "cell_type": "code",
   "execution_count": 5,
   "metadata": {},
   "outputs": [
    {
     "data": {
      "text/html": [
       "<div>\n",
       "<style scoped>\n",
       "    .dataframe tbody tr th:only-of-type {\n",
       "        vertical-align: middle;\n",
       "    }\n",
       "\n",
       "    .dataframe tbody tr th {\n",
       "        vertical-align: top;\n",
       "    }\n",
       "\n",
       "    .dataframe thead th {\n",
       "        text-align: right;\n",
       "    }\n",
       "</style>\n",
       "<table border=\"1\" class=\"dataframe\">\n",
       "  <thead>\n",
       "    <tr style=\"text-align: right;\">\n",
       "      <th></th>\n",
       "      <th>City</th>\n",
       "      <th>Center</th>\n",
       "      <th>Date</th>\n",
       "      <th>Year</th>\n",
       "      <th>Month</th>\n",
       "      <th>Season</th>\n",
       "      <th>PM1_0</th>\n",
       "      <th>PM2_5</th>\n",
       "      <th>PM10</th>\n",
       "      <th>Temperature_F</th>\n",
       "      <th>Humidity_%</th>\n",
       "      <th>AQI</th>\n",
       "      <th>New_cases</th>\n",
       "      <th>Cumulative_cases</th>\n",
       "      <th>New_deaths</th>\n",
       "      <th>Cumulative_deaths</th>\n",
       "    </tr>\n",
       "  </thead>\n",
       "  <tbody>\n",
       "    <tr>\n",
       "      <th>0</th>\n",
       "      <td>Yangon</td>\n",
       "      <td>7 Miles Mayangone</td>\n",
       "      <td>10/20/2019 0:00</td>\n",
       "      <td>2019</td>\n",
       "      <td>October</td>\n",
       "      <td>Rainy Season</td>\n",
       "      <td>29.60</td>\n",
       "      <td>44.27</td>\n",
       "      <td>52.87</td>\n",
       "      <td>95.67</td>\n",
       "      <td>49.64</td>\n",
       "      <td>122.59</td>\n",
       "      <td>0</td>\n",
       "      <td>0</td>\n",
       "      <td>0</td>\n",
       "      <td>0</td>\n",
       "    </tr>\n",
       "    <tr>\n",
       "      <th>1</th>\n",
       "      <td>Yangon</td>\n",
       "      <td>7 Miles Mayangone</td>\n",
       "      <td>10/21/2019 0:00</td>\n",
       "      <td>2019</td>\n",
       "      <td>October</td>\n",
       "      <td>Rainy Season</td>\n",
       "      <td>25.22</td>\n",
       "      <td>37.49</td>\n",
       "      <td>45.21</td>\n",
       "      <td>94.42</td>\n",
       "      <td>51.67</td>\n",
       "      <td>105.90</td>\n",
       "      <td>0</td>\n",
       "      <td>0</td>\n",
       "      <td>0</td>\n",
       "      <td>0</td>\n",
       "    </tr>\n",
       "    <tr>\n",
       "      <th>2</th>\n",
       "      <td>Yangon</td>\n",
       "      <td>7 Miles Mayangone</td>\n",
       "      <td>10/22/2019 0:00</td>\n",
       "      <td>2019</td>\n",
       "      <td>October</td>\n",
       "      <td>Rainy Season</td>\n",
       "      <td>24.46</td>\n",
       "      <td>35.84</td>\n",
       "      <td>42.32</td>\n",
       "      <td>95.40</td>\n",
       "      <td>49.26</td>\n",
       "      <td>101.84</td>\n",
       "      <td>0</td>\n",
       "      <td>0</td>\n",
       "      <td>0</td>\n",
       "      <td>0</td>\n",
       "    </tr>\n",
       "    <tr>\n",
       "      <th>3</th>\n",
       "      <td>Yangon</td>\n",
       "      <td>7 Miles Mayangone</td>\n",
       "      <td>10/23/2019 0:00</td>\n",
       "      <td>2019</td>\n",
       "      <td>October</td>\n",
       "      <td>Rainy Season</td>\n",
       "      <td>23.42</td>\n",
       "      <td>34.53</td>\n",
       "      <td>41.37</td>\n",
       "      <td>96.39</td>\n",
       "      <td>48.06</td>\n",
       "      <td>98.17</td>\n",
       "      <td>0</td>\n",
       "      <td>0</td>\n",
       "      <td>0</td>\n",
       "      <td>0</td>\n",
       "    </tr>\n",
       "    <tr>\n",
       "      <th>4</th>\n",
       "      <td>Yangon</td>\n",
       "      <td>7 Miles Mayangone</td>\n",
       "      <td>10/24/2019 0:00</td>\n",
       "      <td>2019</td>\n",
       "      <td>October</td>\n",
       "      <td>Rainy Season</td>\n",
       "      <td>38.29</td>\n",
       "      <td>56.55</td>\n",
       "      <td>68.59</td>\n",
       "      <td>93.70</td>\n",
       "      <td>57.11</td>\n",
       "      <td>151.54</td>\n",
       "      <td>0</td>\n",
       "      <td>0</td>\n",
       "      <td>0</td>\n",
       "      <td>0</td>\n",
       "    </tr>\n",
       "    <tr>\n",
       "      <th>...</th>\n",
       "      <td>...</td>\n",
       "      <td>...</td>\n",
       "      <td>...</td>\n",
       "      <td>...</td>\n",
       "      <td>...</td>\n",
       "      <td>...</td>\n",
       "      <td>...</td>\n",
       "      <td>...</td>\n",
       "      <td>...</td>\n",
       "      <td>...</td>\n",
       "      <td>...</td>\n",
       "      <td>...</td>\n",
       "      <td>...</td>\n",
       "      <td>...</td>\n",
       "      <td>...</td>\n",
       "      <td>...</td>\n",
       "    </tr>\n",
       "    <tr>\n",
       "      <th>5117</th>\n",
       "      <td>Mandalay</td>\n",
       "      <td>Jefferson Center</td>\n",
       "      <td>10/27/2020 0:00</td>\n",
       "      <td>2020</td>\n",
       "      <td>October</td>\n",
       "      <td>Rainy Season</td>\n",
       "      <td>19.50</td>\n",
       "      <td>31.46</td>\n",
       "      <td>37.68</td>\n",
       "      <td>93.33</td>\n",
       "      <td>55.19</td>\n",
       "      <td>91.71</td>\n",
       "      <td>1426</td>\n",
       "      <td>46200</td>\n",
       "      <td>27</td>\n",
       "      <td>1122</td>\n",
       "    </tr>\n",
       "    <tr>\n",
       "      <th>5118</th>\n",
       "      <td>Mandalay</td>\n",
       "      <td>Jefferson Center</td>\n",
       "      <td>10/28/2020 0:00</td>\n",
       "      <td>2020</td>\n",
       "      <td>October</td>\n",
       "      <td>Rainy Season</td>\n",
       "      <td>17.36</td>\n",
       "      <td>27.30</td>\n",
       "      <td>31.57</td>\n",
       "      <td>94.07</td>\n",
       "      <td>54.33</td>\n",
       "      <td>82.97</td>\n",
       "      <td>1466</td>\n",
       "      <td>47666</td>\n",
       "      <td>25</td>\n",
       "      <td>1147</td>\n",
       "    </tr>\n",
       "    <tr>\n",
       "      <th>5119</th>\n",
       "      <td>Mandalay</td>\n",
       "      <td>Jefferson Center</td>\n",
       "      <td>10/29/2020 0:00</td>\n",
       "      <td>2020</td>\n",
       "      <td>October</td>\n",
       "      <td>Rainy Season</td>\n",
       "      <td>15.30</td>\n",
       "      <td>24.34</td>\n",
       "      <td>27.73</td>\n",
       "      <td>93.45</td>\n",
       "      <td>57.17</td>\n",
       "      <td>76.74</td>\n",
       "      <td>1406</td>\n",
       "      <td>49072</td>\n",
       "      <td>25</td>\n",
       "      <td>1172</td>\n",
       "    </tr>\n",
       "    <tr>\n",
       "      <th>5120</th>\n",
       "      <td>Mandalay</td>\n",
       "      <td>Jefferson Center</td>\n",
       "      <td>10/30/2020 0:00</td>\n",
       "      <td>2020</td>\n",
       "      <td>October</td>\n",
       "      <td>Rainy Season</td>\n",
       "      <td>10.18</td>\n",
       "      <td>16.20</td>\n",
       "      <td>18.90</td>\n",
       "      <td>92.64</td>\n",
       "      <td>52.21</td>\n",
       "      <td>59.62</td>\n",
       "      <td>1331</td>\n",
       "      <td>50403</td>\n",
       "      <td>27</td>\n",
       "      <td>1199</td>\n",
       "    </tr>\n",
       "    <tr>\n",
       "      <th>5121</th>\n",
       "      <td>Mandalay</td>\n",
       "      <td>Jefferson Center</td>\n",
       "      <td>10/31/2020 0:00</td>\n",
       "      <td>2020</td>\n",
       "      <td>October</td>\n",
       "      <td>Rainy Season</td>\n",
       "      <td>10.97</td>\n",
       "      <td>17.10</td>\n",
       "      <td>20.28</td>\n",
       "      <td>90.08</td>\n",
       "      <td>59.51</td>\n",
       "      <td>61.52</td>\n",
       "      <td>1093</td>\n",
       "      <td>51496</td>\n",
       "      <td>20</td>\n",
       "      <td>1219</td>\n",
       "    </tr>\n",
       "  </tbody>\n",
       "</table>\n",
       "<p>5122 rows × 16 columns</p>\n",
       "</div>"
      ],
      "text/plain": [
       "          City             Center             Date  Year    Month  \\\n",
       "0       Yangon  7 Miles Mayangone  10/20/2019 0:00  2019  October   \n",
       "1       Yangon  7 Miles Mayangone  10/21/2019 0:00  2019  October   \n",
       "2       Yangon  7 Miles Mayangone  10/22/2019 0:00  2019  October   \n",
       "3       Yangon  7 Miles Mayangone  10/23/2019 0:00  2019  October   \n",
       "4       Yangon  7 Miles Mayangone  10/24/2019 0:00  2019  October   \n",
       "...        ...                ...              ...   ...      ...   \n",
       "5117  Mandalay   Jefferson Center  10/27/2020 0:00  2020  October   \n",
       "5118  Mandalay   Jefferson Center  10/28/2020 0:00  2020  October   \n",
       "5119  Mandalay   Jefferson Center  10/29/2020 0:00  2020  October   \n",
       "5120  Mandalay   Jefferson Center  10/30/2020 0:00  2020  October   \n",
       "5121  Mandalay   Jefferson Center  10/31/2020 0:00  2020  October   \n",
       "\n",
       "            Season  PM1_0  PM2_5   PM10  Temperature_F  Humidity_%     AQI  \\\n",
       "0     Rainy Season  29.60  44.27  52.87          95.67       49.64  122.59   \n",
       "1     Rainy Season  25.22  37.49  45.21          94.42       51.67  105.90   \n",
       "2     Rainy Season  24.46  35.84  42.32          95.40       49.26  101.84   \n",
       "3     Rainy Season  23.42  34.53  41.37          96.39       48.06   98.17   \n",
       "4     Rainy Season  38.29  56.55  68.59          93.70       57.11  151.54   \n",
       "...            ...    ...    ...    ...            ...         ...     ...   \n",
       "5117  Rainy Season  19.50  31.46  37.68          93.33       55.19   91.71   \n",
       "5118  Rainy Season  17.36  27.30  31.57          94.07       54.33   82.97   \n",
       "5119  Rainy Season  15.30  24.34  27.73          93.45       57.17   76.74   \n",
       "5120  Rainy Season  10.18  16.20  18.90          92.64       52.21   59.62   \n",
       "5121  Rainy Season  10.97  17.10  20.28          90.08       59.51   61.52   \n",
       "\n",
       "      New_cases  Cumulative_cases  New_deaths  Cumulative_deaths  \n",
       "0             0                 0           0                  0  \n",
       "1             0                 0           0                  0  \n",
       "2             0                 0           0                  0  \n",
       "3             0                 0           0                  0  \n",
       "4             0                 0           0                  0  \n",
       "...         ...               ...         ...                ...  \n",
       "5117       1426             46200          27               1122  \n",
       "5118       1466             47666          25               1147  \n",
       "5119       1406             49072          25               1172  \n",
       "5120       1331             50403          27               1199  \n",
       "5121       1093             51496          20               1219  \n",
       "\n",
       "[5122 rows x 16 columns]"
      ]
     },
     "execution_count": 5,
     "metadata": {},
     "output_type": "execute_result"
    }
   ],
   "source": [
    "# Impresión de las características\n",
    "features"
   ]
  },
  {
   "cell_type": "markdown",
   "metadata": {},
   "source": [
    "## Asignación 1 &#x1F625;\n",
    "\n",
    "Plantee 2 preguntas que le parezcan interesantes a resolver con este dataset."
   ]
  },
  {
   "cell_type": "markdown",
   "metadata": {},
   "source": [
    "### Contexto\n",
    "\n",
    "Este dataset es parte de un proyecto para visualizar la calidad del aire de Myanmar.\n",
    "\n",
    "**City[String]**: 2 valores distintos. (Ciudades de Myanmar)  \n",
    "**Center[String]**:  14 valores distintos. (Centro de medición)  \n",
    "**Date[Date]**: 378 valores distintos. (Fecha de recolección)  \n",
    "**Year[Numeric]**: 2 valores distintos. (Año de recolección)  \n",
    "**Month[String]**: 12 valores distintos. (Mes de recolección)  \n",
    "**Season[String]**: 3 valores distintos. (Temporada climática)      \n",
    "**PM1_0[Numeric]**: 2430 valores distintos. (Partículas de tamaño $<1\\mu m$, polvo, partículas de combustión, bacterias, virus, etc.)    \n",
    "**PM2_5[Numeric]**: 2736 valores distintos. (Partículas de tamñao $<2.5\\mu m$, partículas antropogénicas, emisiones de diesel)  \n",
    "**PM10[Numeric]**: 2762 valores distintos. (Partículas de tamaño $<10\\mu m$, partículas sólidas o líquidas, polvo, cenizas, etc.)  \n",
    "**Temperature_F[Numeric]**: 1577 valores distintos. (Temperatura en grados Farenheit)   \n",
    "**Humidity_%[Numeric]**: 2586 valores distintos. (Porcentaje de humedad)     \n",
    "**AQI[Numeric]**: 2686 valores distintos. (Calidad de aire, a mayor el valor, mayor nivel de contaminación atmosférica, menores 100-satisfactoria, mayores a 100-insatisfactoria)     \n",
    "**New_cases[Numeric]**: 87 valores distintos. (No hay documentación al respecto, son nuevos casos de enfermedades respiratorias)   \n",
    "**Cumulativa_cases[Numeric]**: 168 valores distintos. (No hay documentación al respecto, casos acumulados de enfermedades respiratorias)   \n",
    "**New_deaths[Numeric]**: 30 valores distintos. (No hay documentación al respecto, muertos de las enfermedades respiratorias)   \n",
    "**Cumulative_deaths [Numeric]**: 59 valores distintos. (No hay documentación al respecto, muetes acumuladas de las enfermeades respiratorias)"
   ]
  },
  {
   "cell_type": "markdown",
   "metadata": {},
   "source": [
    "### Exploración de los datos"
   ]
  },
  {
   "cell_type": "code",
   "execution_count": 6,
   "metadata": {},
   "outputs": [],
   "source": [
    "features[\"Date\"] = pd.to_datetime(features[\"Date\"])"
   ]
  },
  {
   "cell_type": "code",
   "execution_count": 7,
   "metadata": {},
   "outputs": [
    {
     "name": "stdout",
     "output_type": "stream",
     "text": [
      "City                 0\n",
      "Center               0\n",
      "Date                 0\n",
      "Year                 0\n",
      "Month                0\n",
      "Season               0\n",
      "PM1_0                0\n",
      "PM2_5                0\n",
      "PM10                 0\n",
      "Temperature_F        0\n",
      "Humidity_%           0\n",
      "AQI                  0\n",
      "New_cases            0\n",
      "Cumulative_cases     0\n",
      "New_deaths           0\n",
      "Cumulative_deaths    0\n",
      "dtype: int64\n"
     ]
    }
   ],
   "source": [
    "# Identificamos los valores nulos\n",
    "print(features.isnull().sum())"
   ]
  },
  {
   "cell_type": "markdown",
   "metadata": {},
   "source": [
    "### Histogramas"
   ]
  },
  {
   "cell_type": "code",
   "execution_count": 8,
   "metadata": {},
   "outputs": [
    {
     "data": {
      "image/png": "[encoded data removed]",
      "text/plain": [
       "<Figure size 432x288 with 1 Axes>"
      ]
     },
     "metadata": {
      "needs_background": "light"
     },
     "output_type": "display_data"
    }
   ],
   "source": [
    "# Histograma de Ciudad\n",
    "plt.hist(features.City)\n",
    "plt.title(\"City\")\n",
    "plt.show()"
   ]
  },
  {
   "cell_type": "code",
   "execution_count": 9,
   "metadata": {},
   "outputs": [
    {
     "data": {
      "image/png": "[encoded data removed]",
      "text/plain": [
       "<Figure size 432x288 with 1 Axes>"
      ]
     },
     "metadata": {
      "needs_background": "light"
     },
     "output_type": "display_data"
    }
   ],
   "source": [
    "# Histograma de Center por Ciudad\n",
    "city1 = features[features.City == \"Yangon\"]\n",
    "\n",
    "plt.hist(city1.Center)\n",
    "plt.title(\"Center\")\n",
    "plt.show()"
   ]
  },
  {
   "cell_type": "code",
   "execution_count": 10,
   "metadata": {},
   "outputs": [
    {
     "data": {
      "image/png": "[encoded data removed]",
      "text/plain": [
       "<Figure size 432x288 with 1 Axes>"
      ]
     },
     "metadata": {
      "needs_background": "light"
     },
     "output_type": "display_data"
    }
   ],
   "source": [
    "# Histograma de Center por Ciudad\n",
    "city2 = features[features.City == \"Mandalay\"]\n",
    "\n",
    "plt.hist(city2.Center)\n",
    "plt.title(\"Center\")\n",
    "plt.show()"
   ]
  },
  {
   "cell_type": "code",
   "execution_count": 11,
   "metadata": {},
   "outputs": [
    {
     "data": {
      "image/png": "[encoded data removed]",
      "text/plain": [
       "<Figure size 432x288 with 1 Axes>"
      ]
     },
     "metadata": {
      "needs_background": "light"
     },
     "output_type": "display_data"
    }
   ],
   "source": [
    "# Histograma por Año\n",
    "plt.hist(features.Year)\n",
    "plt.title(\"Año\")\n",
    "plt.show()"
   ]
  },
  {
   "cell_type": "code",
   "execution_count": 12,
   "metadata": {},
   "outputs": [
    {
     "data": {
      "image/png": "[encoded data removed]",
      "text/plain": [
       "<Figure size 432x288 with 1 Axes>"
      ]
     },
     "metadata": {
      "needs_background": "light"
     },
     "output_type": "display_data"
    }
   ],
   "source": [
    "# Histograma por Mes\n",
    "plt.hist(features.Month)\n",
    "plt.title(\"Mes\")\n",
    "plt.show()"
   ]
  },
  {
   "cell_type": "code",
   "execution_count": 13,
   "metadata": {},
   "outputs": [
    {
     "data": {
      "image/png": "[encoded data removed]",
      "text/plain": [
       "<Figure size 432x288 with 1 Axes>"
      ]
     },
     "metadata": {
      "needs_background": "light"
     },
     "output_type": "display_data"
    }
   ],
   "source": [
    "# Histograma por Temporada\n",
    "plt.hist(features.Season)\n",
    "plt.title(\"Temporada\")\n",
    "plt.show()"
   ]
  },
  {
   "cell_type": "code",
   "execution_count": 14,
   "metadata": {},
   "outputs": [
    {
     "data": {
      "image/png": "[encoded data removed]",
      "text/plain": [
       "<Figure size 432x288 with 1 Axes>"
      ]
     },
     "metadata": {
      "needs_background": "light"
     },
     "output_type": "display_data"
    }
   ],
   "source": [
    "# Histograma por pm1.0\n",
    "plt.hist(features.PM1_0)\n",
    "plt.title(\"pm1.0\")\n",
    "plt.show()"
   ]
  },
  {
   "cell_type": "code",
   "execution_count": 15,
   "metadata": {},
   "outputs": [
    {
     "data": {
      "image/png": "[encoded data removed]",
      "text/plain": [
       "<Figure size 432x288 with 1 Axes>"
      ]
     },
     "metadata": {
      "needs_background": "light"
     },
     "output_type": "display_data"
    }
   ],
   "source": [
    "# Histograma por pm2.5\n",
    "plt.hist(features.PM2_5)\n",
    "plt.title(\"pm2.5\")\n",
    "plt.show()"
   ]
  },
  {
   "cell_type": "code",
   "execution_count": 16,
   "metadata": {},
   "outputs": [
    {
     "data": {
      "image/png": "[encoded data removed]",
      "text/plain": [
       "<Figure size 432x288 with 1 Axes>"
      ]
     },
     "metadata": {
      "needs_background": "light"
     },
     "output_type": "display_data"
    }
   ],
   "source": [
    "# Histograma por pm10\n",
    "plt.hist(features.PM10)\n",
    "plt.title(\"pm10\")\n",
    "plt.show()"
   ]
  },
  {
   "cell_type": "code",
   "execution_count": 17,
   "metadata": {},
   "outputs": [
    {
     "data": {
      "image/png": "[encoded data removed]",
      "text/plain": [
       "<Figure size 432x288 with 1 Axes>"
      ]
     },
     "metadata": {
      "needs_background": "light"
     },
     "output_type": "display_data"
    }
   ],
   "source": [
    "# Histograma por temperature_f\n",
    "plt.hist(features.Temperature_F)\n",
    "plt.title(\"Temperature_F\")\n",
    "plt.show()"
   ]
  },
  {
   "cell_type": "code",
   "execution_count": 18,
   "metadata": {},
   "outputs": [
    {
     "data": {
      "image/png": "[encoded data removed]",
      "text/plain": [
       "<Figure size 432x288 with 1 Axes>"
      ]
     },
     "metadata": {
      "needs_background": "light"
     },
     "output_type": "display_data"
    }
   ],
   "source": [
    "# Histograma por humidity\n",
    "plt.hist(features[\"Humidity_%\"])\n",
    "plt.title(\"Humeadad\")\n",
    "plt.show()"
   ]
  },
  {
   "cell_type": "code",
   "execution_count": 19,
   "metadata": {},
   "outputs": [
    {
     "data": {
      "image/png": "[encoded data removed]",
      "text/plain": [
       "<Figure size 432x288 with 1 Axes>"
      ]
     },
     "metadata": {
      "needs_background": "light"
     },
     "output_type": "display_data"
    }
   ],
   "source": [
    "# Histograma por AQI\n",
    "plt.hist(features.AQI)\n",
    "plt.title(\"AQI\")\n",
    "plt.show()"
   ]
  },
  {
   "cell_type": "code",
   "execution_count": 20,
   "metadata": {},
   "outputs": [
    {
     "data": {
      "image/png": "[encoded data removed]",
      "text/plain": [
       "<Figure size 432x288 with 1 Axes>"
      ]
     },
     "metadata": {
      "needs_background": "light"
     },
     "output_type": "display_data"
    }
   ],
   "source": [
    "# Histograma por casos\n",
    "plt.hist(features.New_cases)\n",
    "plt.title(\"Nuevos casos\")\n",
    "plt.show()"
   ]
  },
  {
   "cell_type": "code",
   "execution_count": 21,
   "metadata": {},
   "outputs": [
    {
     "data": {
      "image/png": "[encoded data removed]",
      "text/plain": [
       "<Figure size 432x288 with 1 Axes>"
      ]
     },
     "metadata": {
      "needs_background": "light"
     },
     "output_type": "display_data"
    }
   ],
   "source": [
    "# Histograma por muerte\n",
    "plt.hist(features.New_deaths)\n",
    "plt.title(\"Nuevas muertes\")\n",
    "plt.show()"
   ]
  },
  {
   "cell_type": "code",
   "execution_count": 22,
   "metadata": {},
   "outputs": [
    {
     "data": {
      "image/png": "[encoded data removed]",
      "text/plain": [
       "<Figure size 432x288 with 1 Axes>"
      ]
     },
     "metadata": {
      "needs_background": "light"
     },
     "output_type": "display_data"
    }
   ],
   "source": [
    "# Histograma por casos acumulados\n",
    "plt.hist(features.Cumulative_cases)\n",
    "plt.title(\"Casos acumulados\")\n",
    "plt.show()"
   ]
  },
  {
   "cell_type": "code",
   "execution_count": 23,
   "metadata": {},
   "outputs": [
    {
     "data": {
      "image/png": "[encoded data removed]",
      "text/plain": [
       "<Figure size 432x288 with 1 Axes>"
      ]
     },
     "metadata": {
      "needs_background": "light"
     },
     "output_type": "display_data"
    }
   ],
   "source": [
    "# Histograma por muertes acumuladas\n",
    "plt.hist(features.Cumulative_deaths)\n",
    "plt.title(\"Muertes acumuladas\")\n",
    "plt.show()"
   ]
  },
  {
   "cell_type": "markdown",
   "metadata": {},
   "source": [
    "### Preguntas\n",
    "#### 1. ¿Cuál es el comportamiento de las muertes acumuladas por ciudad?\n",
    "#### 2. ¿La calidad del aire tiende a empeorar en 2020 en temporadas de calor?"
   ]
  },
  {
   "cell_type": "markdown",
   "metadata": {},
   "source": [
    "## Asignación 2 &#x1F921;\n",
    "\n",
    "Apoyado de las técnicas vistas en clase, realice un análisis exploratorio de datos (EDA) que le permita responder de manera guiada las preguntas planteadas anteriormente. Debe apoyarse de visualizaciones y métricas para respaldar sus respuestas."
   ]
  },
  {
   "cell_type": "markdown",
   "metadata": {},
   "source": [
    "### 1. ¿Cuál es el comportamiento de las muertes acumuladas por ciudad?"
   ]
  },
  {
   "cell_type": "markdown",
   "metadata": {},
   "source": [
    "En el suspuesto de que que cada Centro tienen un valor distinto en muertes acumuladas para cada Ciudad, haremos un agrupamiento por fecha, en la cual se sumen los registros de muertes acumuladas."
   ]
  },
  {
   "cell_type": "code",
   "execution_count": 24,
   "metadata": {},
   "outputs": [
    {
     "data": {
      "text/plain": [
       "array(['Yangon', 'Mandalay'], dtype=object)"
      ]
     },
     "execution_count": 24,
     "metadata": {},
     "output_type": "execute_result"
    }
   ],
   "source": [
    "features.City.unique()"
   ]
  },
  {
   "cell_type": "code",
   "execution_count": 25,
   "metadata": {},
   "outputs": [],
   "source": [
    "# Dividimos los datos por ciudad\n",
    "city_1 = features[features.City == \"Yangon\"]\n",
    "city_2 = features[features.City == \"Mandalay\"]"
   ]
  },
  {
   "cell_type": "code",
   "execution_count": 26,
   "metadata": {},
   "outputs": [],
   "source": [
    "# Realizamos los procesos necesarios para observar el comportamiento de muertes acumuladas.\n",
    "city_1_groupbyDate = city1.groupby(['Date'])['Cumulative_deaths'].sum()\n",
    "city_2_groupbyDate = city2.groupby(['Date'])['Cumulative_deaths'].sum()"
   ]
  },
  {
   "cell_type": "code",
   "execution_count": 27,
   "metadata": {},
   "outputs": [],
   "source": [
    "# Corregimos algunos valores\n",
    "for i in range(len(city_1_groupbyDate)):\n",
    "    if i != 0:\n",
    "        if city_1_groupbyDate[i] < city_1_groupbyDate[i - 1]:\n",
    "            city_1_groupbyDate[i] = city_1_groupbyDate[i - 1] + city_1_groupbyDate[i]"
   ]
  },
  {
   "cell_type": "markdown",
   "metadata": {},
   "source": [
    "#### Yangon"
   ]
  },
  {
   "cell_type": "code",
   "execution_count": 28,
   "metadata": {},
   "outputs": [],
   "source": [
    "# Obtenemos una regresión lineal de la muertes acumuladas por ciudad\n",
    "X =  np.array([[1, i] for i in range(len(city_1_groupbyDate))])\n",
    "coef, res, _, _ = np.linalg.lstsq(X, city_1_groupbyDate, rcond=None)\n",
    "prediction = X.dot(coef)"
   ]
  },
  {
   "cell_type": "code",
   "execution_count": 29,
   "metadata": {},
   "outputs": [
    {
     "data": {
      "image/png": "[encoded data removed]",
      "text/plain": [
       "<Figure size 432x288 with 1 Axes>"
      ]
     },
     "metadata": {
      "needs_background": "light"
     },
     "output_type": "display_data"
    }
   ],
   "source": [
    "plt.plot(city_1_groupbyDate.index, city_1_groupbyDate)\n",
    "plt.plot(city_1_groupbyDate.index, prediction, color = 'green')\n",
    "plt.title(\"Yangon Cumulative Deaths\")\n",
    "plt.show()"
   ]
  },
  {
   "cell_type": "markdown",
   "metadata": {},
   "source": [
    "#### Mandalay"
   ]
  },
  {
   "cell_type": "code",
   "execution_count": 30,
   "metadata": {},
   "outputs": [],
   "source": [
    "# Obtenemos una regresión lineal de la muertes acumuladas por ciudad\n",
    "X =  np.array([[1, i] for i in range(len(city_2_groupbyDate))])\n",
    "coef, res, _, _ = np.linalg.lstsq(X, city_2_groupbyDate, rcond=None)\n",
    "prediction = X.dot(coef)"
   ]
  },
  {
   "cell_type": "code",
   "execution_count": 31,
   "metadata": {},
   "outputs": [
    {
     "data": {
      "image/png": "[encoded data removed]",
      "text/plain": [
       "<Figure size 432x288 with 1 Axes>"
      ]
     },
     "metadata": {
      "needs_background": "light"
     },
     "output_type": "display_data"
    }
   ],
   "source": [
    "plt.plot(city_1_groupbyDate.index, city_2_groupbyDate)\n",
    "plt.plot(city_1_groupbyDate.index, prediction, color = 'green')\n",
    "plt.title(\"Mandalay Cumulative Deaths\")\n",
    "plt.show()"
   ]
  },
  {
   "cell_type": "code",
   "execution_count": 32,
   "metadata": {},
   "outputs": [],
   "source": [
    "prediccion_global = list()\n",
    "for i in range(len(city_1_groupbyDate)):\n",
    "    prediccion_global.append(city_1_groupbyDate[i] + city_2_groupbyDate[2])\n",
    "prediccion_global = np.array(prediccion_global)"
   ]
  },
  {
   "cell_type": "code",
   "execution_count": 33,
   "metadata": {},
   "outputs": [
    {
     "data": {
      "image/png": "[encoded data removed]",
      "text/plain": [
       "<Figure size 432x288 with 1 Axes>"
      ]
     },
     "metadata": {
      "needs_background": "light"
     },
     "output_type": "display_data"
    }
   ],
   "source": [
    "# Global\n",
    "plt.plot(city_1_groupbyDate.index, prediccion_global)\n",
    "plt.plot(city_1_groupbyDate.index, city_1_groupbyDate, color = 'green')\n",
    "plt.plot(city_2_groupbyDate.index, city_2_groupbyDate, color = 'red')\n",
    "plt.title(\"Global Cumulative Deaths\")\n",
    "plt.show()"
   ]
  },
  {
   "cell_type": "markdown",
   "metadata": {},
   "source": [
    "### 2. ¿La calidad del aire tiende a empeorar en 2020 en temporadas de calor?"
   ]
  },
  {
   "cell_type": "code",
   "execution_count": 34,
   "metadata": {},
   "outputs": [],
   "source": [
    "# Obtenemos solo el año 2020\n",
    "year2 = features[features.Year == 2020]"
   ]
  },
  {
   "cell_type": "code",
   "execution_count": 35,
   "metadata": {},
   "outputs": [],
   "source": [
    "aqi = year2.groupby(['Date']).AQI.mean()"
   ]
  },
  {
   "cell_type": "code",
   "execution_count": 36,
   "metadata": {},
   "outputs": [],
   "source": [
    "hot = year2.Season.unique()[1]"
   ]
  },
  {
   "cell_type": "code",
   "execution_count": 41,
   "metadata": {},
   "outputs": [
    {
     "data": {
      "text/plain": [
       "array(['Cool Season', 'Hot Season', 'Rainy Season'], dtype=object)"
      ]
     },
     "execution_count": 41,
     "metadata": {},
     "output_type": "execute_result"
    }
   ],
   "source": [
    "year2.Season.unique()"
   ]
  },
  {
   "cell_type": "code",
   "execution_count": 37,
   "metadata": {},
   "outputs": [],
   "source": [
    "hot_season = year2[year2.Season == hot]"
   ]
  },
  {
   "cell_type": "code",
   "execution_count": 38,
   "metadata": {},
   "outputs": [],
   "source": [
    "aqi_season = hot_season.groupby(['Date']).AQI.mean()"
   ]
  },
  {
   "cell_type": "code",
   "execution_count": 39,
   "metadata": {},
   "outputs": [],
   "source": [
    "X = np.array([[1, i] for i in range(len(aqi_season))])\n",
    "coef, res, _, _ = np.linalg.lstsq(X, aqi_season, rcond=None)\n",
    "prediction = X.dot(coef)"
   ]
  },
  {
   "cell_type": "code",
   "execution_count": 40,
   "metadata": {},
   "outputs": [
    {
     "data": {
      "image/png": "[encoded data removed]",
      "text/plain": [
       "<Figure size 432x288 with 1 Axes>"
      ]
     },
     "metadata": {
      "needs_background": "light"
     },
     "output_type": "display_data"
    }
   ],
   "source": [
    "plt.plot(aqi.index, aqi)\n",
    "plt.plot(aqi_season.index, aqi_season)\n",
    "plt.plot(aqi_season.index, prediction)\n",
    "plt.show()"
   ]
  }
 ],
 "metadata": {
  "kernelspec": {
   "display_name": "Python 3 (ipykernel)",
   "language": "python",
   "name": "python3"
  },
  "language_info": {
   "codemirror_mode": {
    "name": "ipython",
    "version": 3
   },
   "file_extension": ".py",
   "mimetype": "text/x-python",
   "name": "python",
   "nbconvert_exporter": "python",
   "pygments_lexer": "ipython3",
   "version": "3.9.12"
  }
 },
 "nbformat": 4,
 "nbformat_minor": 4
}
