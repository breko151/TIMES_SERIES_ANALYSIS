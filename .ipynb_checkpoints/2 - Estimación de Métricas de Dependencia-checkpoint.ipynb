{
 "cells": [
  {
   "cell_type": "code",
   "execution_count": 1,
   "metadata": {},
   "outputs": [],
   "source": [
    "# Execute if necessary\n",
    "# %%capture\n",
    "# !pip install numpy seaborn matplotlib pandas"
   ]
  },
  {
   "cell_type": "code",
   "execution_count": 2,
   "metadata": {
    "deletable": false,
    "editable": false
   },
   "outputs": [],
   "source": [
    "import numpy as np\n",
    "import seaborn as sns\n",
    "import matplotlib.pyplot as plt\n",
    "import pandas as pd\n",
    "from typing import Dict, Tuple, Union, List"
   ]
  },
  {
   "cell_type": "markdown",
   "metadata": {},
   "source": [
    "# Práctica 2: Estimación de Métricas de Dependencia"
   ]
  },
  {
   "cell_type": "markdown",
   "metadata": {},
   "source": [
    "__Instrucciones__: A continuación hay una lista de funciones que debe implementar o tareas que debe desarrollar. La descripción de cada una de ellas se encuentra en la definición de cada una de las funciones. Cada función está marcada por &#x1F625;,  &#x1F643; o &#x1F921;. Las marcas indican:\n",
    "\n",
    "- &#x1F625;: Indican una entrega que debe ser hecha dentro de la misma sesión de la asignación. \n",
    "- &#x1F643;: Indican una entrega que puede ser hecha hasta la siguiente sesión.\n",
    "- &#x1F921;: Debe mostrar un avance en la misma sesión, pero la entrega puede ser hecha en la siguiente.\n",
    "\n",
    "Aquellas entregas parciales que no sean hechas el día de la asignación ya no serán válidas para las entregas totales, sin embargo, las entregas totales seguirán siendo válidas."
   ]
  },
  {
   "cell_type": "markdown",
   "metadata": {},
   "source": [
    "En esta sección se incluye una serie de tiempo real. El dataset importado incluye cuatro series de tiempo de la ciudad de Delhi, India, desde el 1 de enero de 2013 al 1 de enero de 2017 en muestreos diarios. Las series de tiempo incluidas son:\n",
    "\n",
    "- __meantemp__: Temperatura promedio del día.\n",
    "- __humidity__: Humedad promedio del día.\n",
    "- __wind_speed__: Velocidad promedio del viento en el día.\n",
    "- __meanpressure__: Presión promedio del día.\n",
    "\n",
    "Este conjunto de datos no contiene datos nulos, por lo que no es necesario realizar una imputación dedatos."
   ]
  },
  {
   "cell_type": "code",
   "execution_count": 3,
   "metadata": {},
   "outputs": [
    {
     "data": {
      "text/html": [
       "<div>\n",
       "<style scoped>\n",
       "    .dataframe tbody tr th:only-of-type {\n",
       "        vertical-align: middle;\n",
       "    }\n",
       "\n",
       "    .dataframe tbody tr th {\n",
       "        vertical-align: top;\n",
       "    }\n",
       "\n",
       "    .dataframe thead th {\n",
       "        text-align: right;\n",
       "    }\n",
       "</style>\n",
       "<table border=\"1\" class=\"dataframe\">\n",
       "  <thead>\n",
       "    <tr style=\"text-align: right;\">\n",
       "      <th></th>\n",
       "      <th>date</th>\n",
       "      <th>meantemp</th>\n",
       "      <th>humidity</th>\n",
       "      <th>wind_speed</th>\n",
       "      <th>meanpressure</th>\n",
       "    </tr>\n",
       "  </thead>\n",
       "  <tbody>\n",
       "    <tr>\n",
       "      <th>0</th>\n",
       "      <td>2013-01-01</td>\n",
       "      <td>10.000000</td>\n",
       "      <td>84.5</td>\n",
       "      <td>0.000000</td>\n",
       "      <td>1015.666667</td>\n",
       "    </tr>\n",
       "    <tr>\n",
       "      <th>1</th>\n",
       "      <td>2013-01-02</td>\n",
       "      <td>7.400000</td>\n",
       "      <td>92.0</td>\n",
       "      <td>2.980000</td>\n",
       "      <td>1017.800000</td>\n",
       "    </tr>\n",
       "    <tr>\n",
       "      <th>2</th>\n",
       "      <td>2013-01-03</td>\n",
       "      <td>7.166667</td>\n",
       "      <td>87.0</td>\n",
       "      <td>4.633333</td>\n",
       "      <td>1018.666667</td>\n",
       "    </tr>\n",
       "  </tbody>\n",
       "</table>\n",
       "</div>"
      ],
      "text/plain": [
       "        date   meantemp  humidity  wind_speed  meanpressure\n",
       "0 2013-01-01  10.000000      84.5    0.000000   1015.666667\n",
       "1 2013-01-02   7.400000      92.0    2.980000   1017.800000\n",
       "2 2013-01-03   7.166667      87.0    4.633333   1018.666667"
      ]
     },
     "execution_count": 3,
     "metadata": {},
     "output_type": "execute_result"
    }
   ],
   "source": [
    "df = pd.read_csv(\"DailyDelhiClimateTrain.csv\")\n",
    "df[\"date\"] = pd.to_datetime(df[\"date\"])\n",
    "df.head(3)"
   ]
  },
  {
   "cell_type": "markdown",
   "metadata": {},
   "source": [
    "## Asignación 1 &#x1F625;\n",
    "\n",
    "Grafique las series de tiempo __meantemp__, __humidty__ y __wind_speed__."
   ]
  },
  {
   "cell_type": "code",
   "execution_count": null,
   "metadata": {},
   "outputs": [],
   "source": []
  },
  {
   "cell_type": "markdown",
   "metadata": {},
   "source": [
    "## Asignación 2 &#x1F625;\n",
    "\n",
    "Grafique el histograma, calcule la media, imprimala y grafíquela en el histograma para las series de tiempo __meantemp__, __humidty__ y __wind_speed__."
   ]
  },
  {
   "cell_type": "markdown",
   "metadata": {},
   "source": [
    "## Asignación 3 &#x1F625;\n",
    "\n",
    "Implemente las función de crossvariance descrita debajo"
   ]
  },
  {
   "cell_type": "code",
   "execution_count": 4,
   "metadata": {},
   "outputs": [],
   "source": [
    "def crossvariance(\n",
    "    time_series_1: pd.Series,\n",
    "    time_series_2: pd.Series,\n",
    "    lags: Union[List[int], int]\n",
    ") -> Union[List[float], float]:\n",
    "    \"\"\"\n",
    "    Descripción:\n",
    "    Esta funcion es la generalización de la autocovarianza.\n",
    "    \n",
    "    Entradas:\n",
    "    - time_series_1: Primera serie de tiempo a utilizar para el cálculo.\n",
    "    - time_series_2: Segunda serie de tiempo a utilizar para el cálculo.\n",
    "    - lags: Puede ser uno o varios lags para loscuales debe calcularse la covarianza.\n",
    "            \n",
    "    Salidas:\n",
    "    - Si lags es un número debe regresar un valor de covarianza, si es una lista, \n",
    "        debe ser una lista de covarianzas.\n",
    "    \"\"\"\n",
    "    \n",
    "    # CÓDIGO AQUI\n",
    "        \n",
    "    return None"
   ]
  },
  {
   "cell_type": "code",
   "execution_count": 5,
   "metadata": {
    "deletable": false,
    "editable": false
   },
   "outputs": [],
   "source": [
    "for __ts__ in [\"meantemp\", \"humidity\", \"wind_speed\"]:\n",
    "    __cvars__ = crossvariance(df[__ts__], df[__ts__], 0)\n",
    "    \n",
    "    if __cvars__ is not None:\n",
    "        assert __cvars__ == df[__ts__].var(ddof=0), \"Your function has an error\"\n",
    "\n",
    "__cvars__ = crossvariance(df[\"humidity\"], df[\"wind_speed\"], np.arange(5).tolist())\n",
    "__expected_cvars__ = [281.02888341849575, 279.97420275000644, 279.2175622460889, 278.5551944432929, 278.3570797214356] \n",
    "\n",
    "if __cvars__ is not None:\n",
    "    assert np.allclose(__cvars__, __expected_cvars__), \"Your function has an error\""
   ]
  },
  {
   "cell_type": "markdown",
   "metadata": {},
   "source": [
    "## Asignación 4 &#x1F921;\n",
    "\n",
    "Implemente las función de crosscorrelation."
   ]
  },
  {
   "cell_type": "code",
   "execution_count": 6,
   "metadata": {},
   "outputs": [],
   "source": [
    "def crosscorrelation(\n",
    "\n",
    "):\n",
    "    \"\"\"\n",
    "    Descripción:\n",
    "    Esta funcion es la generalización de la correlación. Usted debe definirla y documentarla como en\n",
    "    el caso de la función crosscovariance.\n",
    "    \n",
    "    Entradas:\n",
    "            \n",
    "    Salidas:\n",
    "    \"\"\"\n",
    "    \n",
    "    # CÓDIGO AQUI\n",
    "    \n",
    "    return None"
   ]
  },
  {
   "cell_type": "markdown",
   "metadata": {},
   "source": [
    "## Asignación 5 &#x1F643;\n",
    "\n",
    "Grafique el correlograma de la autocorrelación de la serie de tiempo __wind_speed__ junto con las lineas representativas de 2, 2.5 y 3 veces la desviación estándar (valores de correlaciones de interés)."
   ]
  },
  {
   "cell_type": "markdown",
   "metadata": {},
   "source": [
    "## Asignación 6 &#x1F643;\n",
    "\n",
    "Grafique el correlograma de la correlación cruzada de la serie de tiempo __wind_speed__ y __humidity__ junto con las lineas representativas de 2, 2.5 y 3 veces la desviación estándar (valores de correlación de interés)."
   ]
  },
  {
   "cell_type": "markdown",
   "metadata": {},
   "source": [
    "## Integrity Tests"
   ]
  },
  {
   "cell_type": "code",
   "execution_count": 7,
   "metadata": {
    "deletable": false,
    "editable": false
   },
   "outputs": [],
   "source": [
    "import hashlib\n",
    "\n",
    "cell_signs = [\n",
    "    \"2712a947826c1befb6f7d33042a804acdb7d0147\"\n",
    "]\n",
    "\n",
    "for content in _ih:\n",
    "    content_sign = str(hashlib.sha1(content.strip().encode(\"utf-8\")).hexdigest())\n",
    "    if content_sign == cell_signs[0]:\n",
    "        cell_signs.pop(0)\n",
    "        if len(cell_signs) == 0:\n",
    "            break\n",
    "        \n",
    "if len(cell_signs) > 0:\n",
    "    print(\"Something was modified...\")\n",
    "    for cell_sign in cell_signs:\n",
    "        print(cell_sign)"
   ]
  },
  {
   "cell_type": "code",
   "execution_count": 8,
   "metadata": {
    "deletable": false,
    "editable": false
   },
   "outputs": [
    {
     "name": "stdout",
     "output_type": "stream",
     "text": [
      "Everything is consistent :)\n"
     ]
    }
   ],
   "source": [
    "content = _ih[-2]\n",
    "\n",
    "program_sign = \"a7f40589e9186b4b79fc2f76f1d73f2d40da0d81\"\n",
    "if str(hashlib.sha1(content.strip().encode(\"utf-8\")).hexdigest()) == program_sign:\n",
    "    print(\"Everything is consistent :)\")"
   ]
  },
  {
   "cell_type": "code",
   "execution_count": null,
   "metadata": {},
   "outputs": [],
   "source": []
  }
 ],
 "metadata": {
  "celltoolbar": "Edit Metadata",
  "kernelspec": {
   "display_name": "Python 3 (ipykernel)",
   "language": "python",
   "name": "python3"
  },
  "language_info": {
   "codemirror_mode": {
    "name": "ipython",
    "version": 3
   },
   "file_extension": ".py",
   "mimetype": "text/x-python",
   "name": "python",
   "nbconvert_exporter": "python",
   "pygments_lexer": "ipython3",
   "version": "3.9.12"
  }
 },
 "nbformat": 4,
 "nbformat_minor": 4
}
